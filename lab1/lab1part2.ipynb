{
 "cells": [
  {
   "cell_type": "code",
   "execution_count": 51,
   "id": "dacfc693",
   "metadata": {},
   "outputs": [],
   "source": [
    "import pandas as pd\n",
    "import numpy as np\n",
    "import zipfile, timeit\n"
   ]
  },
  {
   "cell_type": "code",
   "execution_count": 58,
   "id": "9a0871e6",
   "metadata": {},
   "outputs": [
    {
     "name": "stderr",
     "output_type": "stream",
     "text": [
      "C:\\Users\\Даня\\AppData\\Local\\Temp\\ipykernel_8796\\3157736227.py:4: FutureWarning: Support for nested sequences for 'parse_dates' in pd.read_csv is deprecated. Combine the desired columns with pd.to_datetime after parsing instead.\n",
      "  df = pd.read_csv(\n",
      "C:\\Users\\Даня\\AppData\\Local\\Temp\\ipykernel_8796\\3157736227.py:4: UserWarning: Parsing dates in %d/%m/%Y %H:%M:%S format when dayfirst=False (the default) was specified. Pass `dayfirst=True` or specify a format to silence this warning.\n",
      "  df = pd.read_csv(\n",
      "C:\\Users\\Даня\\AppData\\Local\\Temp\\ipykernel_8796\\3157736227.py:16: FutureWarning: DataFrame.fillna with 'method' is deprecated and will raise in a future version. Use obj.ffill() or obj.bfill() instead.\n",
      "  df.fillna(method='ffill', inplace=True)\n",
      "C:\\Users\\Даня\\AppData\\Local\\Temp\\ipykernel_8796\\3157736227.py:17: FutureWarning: DataFrame.fillna with 'method' is deprecated and will raise in a future version. Use obj.ffill() or obj.bfill() instead.\n",
      "  df.fillna(method='bfill', inplace=True)\n"
     ]
    },
    {
     "name": "stdout",
     "output_type": "stream",
     "text": [
      "             DateTime  GAP_kW  GRP_kVAR  Voltage_V  Intensity_A  Kitchen_Wh  \\\n",
      "0 2006-12-16 17:24:00   4.216     0.418     234.84         18.4         0.0   \n",
      "1 2006-12-16 17:25:00   5.360     0.436     233.63         23.0         0.0   \n",
      "2 2006-12-16 17:26:00   5.374     0.498     233.29         23.0         0.0   \n",
      "3 2006-12-16 17:27:00   5.388     0.502     233.74         23.0         0.0   \n",
      "4 2006-12-16 17:28:00   3.666     0.528     235.68         15.8         0.0   \n",
      "\n",
      "   Laundry_Wh  Water_heater_Wh  \n",
      "0         1.0             17.0  \n",
      "1         1.0             16.0  \n",
      "2         2.0             17.0  \n",
      "3         1.0             17.0  \n",
      "4         1.0             17.0  \n",
      "DateTime           datetime64[ns]\n",
      "GAP_kW                    float64\n",
      "GRP_kVAR                  float64\n",
      "Voltage_V                 float64\n",
      "Intensity_A               float64\n",
      "Kitchen_Wh                float64\n",
      "Laundry_Wh                float64\n",
      "Water_heater_Wh           float64\n",
      "dtype: object\n"
     ]
    }
   ],
   "source": [
    "zip_path = r\"C:\\Users\\Даня\\Labubu\\laboratory-works\\individual+household+electric+power+consumption.zip\"\n",
    "with zipfile.ZipFile(zip_path, \"r\") as zip:\n",
    "    fullname = [f for f in zip.namelist() if f.endswith(\".txt\")][0]\n",
    "    df = pd.read_csv(\n",
    "        zip.open(fullname), sep=';', na_values='?', \n",
    "        parse_dates={'DateTime': ['Date','Time']}, low_memory=False\n",
    "    )\n",
    "\n",
    "# Перетворення числових колонок\n",
    "df['DateTime'] = pd.to_datetime(df['DateTime'], errors='coerce')\n",
    "df.dropna(subset=['DateTime'], inplace=True)\n",
    "num_cols = df.select_dtypes(include=np.number).columns\n",
    "df[num_cols] = df[num_cols].apply(pd.to_numeric, errors='coerce')\n",
    "\n",
    "#df = df.apply(lambda col: pd.to_numeric(col, errors=\"coerce\") if col.name != \"DateTime\" else col)\n",
    "df.fillna(method='ffill', inplace=True)\n",
    "df.fillna(method='bfill', inplace=True)\n",
    "df.fillna(df[num_cols].mean(), inplace=True)\n",
    "\n",
    "# Короткі назви\n",
    "df.rename(columns={'Global_active_power':'GAP_kW','Global_reactive_power':'GRP_kVAR','Voltage':'Voltage_V','Global_intensity':'Intensity_A','Sub_metering_1':'Kitchen_Wh','Sub_metering_2':'Laundry_Wh','Sub_metering_3':'Water_heater_Wh'\n",
    "}, inplace=True)\n",
    "print(df.head())\n",
    "print(df.dtypes)"
   ]
  },
  {
   "cell_type": "code",
   "execution_count": 64,
   "id": "044b2697",
   "metadata": {},
   "outputs": [],
   "source": [
    "def select_gap_gt_5(d): return d[d['GAP_kW']>5]\n",
    "\n",
    "def select_intensity(d):\n",
    "    d = d[(d['Intensity_A'].between(19,20))]\n",
    "    return d[(d['Laundry_Wh']+d['Kitchen_Wh']) > d['Water_heater_Wh']]\n",
    "\n",
    "def sample_mean(d,n=500_000): \n",
    "    return d.sample(min(len(d),n),replace=False,random_state=52).mean(numeric_only=True)\n",
    "\n",
    "def select_after18(d):\n",
    "    d = d[(d['DateTime'].dt.hour>=18) & (d['GAP_kW']>6)]\n",
    "    g2 = d['Laundry_Wh'] + d['Water_heater_Wh']\n",
    "    dom = d[g2 > d['Kitchen_Wh']]\n",
    "    half=len(dom)//2\n",
    "    return pd.concat([dom.iloc[:half:3], dom.iloc[half::4]])\n"
   ]
  },
  {
   "cell_type": "code",
   "execution_count": 60,
   "id": "921e47b2",
   "metadata": {},
   "outputs": [],
   "source": [
    "def normalize_std(d):\n",
    "    num = d.select_dtypes(np.number)\n",
    "    norm = (num-num.min())/(num.max()-num.min())\n",
    "    std  = (num-num.mean())/num.std()\n",
    "    norm.columns=[c+\"_norm\" for c in num]; std.columns=[c+\"_std\" for c in num]\n",
    "    return pd.concat([d.reset_index(drop=True),norm,std],axis=1)\n"
   ]
  },
  {
   "cell_type": "code",
   "execution_count": 61,
   "id": "ae6eea8e",
   "metadata": {},
   "outputs": [],
   "source": [
    "def correlations(d):\n",
    "    x = d['GAP_kW']\n",
    "    y = d['Intensity_A']\n",
    "    pearson = x.corr(y, method='pearson')\n",
    "    spearman = x.rank().corr(y.rank(), method='pearson')  # Спірмен як кореляція рангів\n",
    "    return dict(pearson=pearson, spearman=spearman)\n",
    "\n",
    "def one_hot_hour(d):\n",
    "    d=d.copy(); d['hour']=d['DateTime'].dt.hour\n",
    "    bins=[0,6,12,18,24]; labels=['night','morning','afternoon','evening']\n",
    "    d['hour_bin']=pd.cut(d['hour'],bins=bins,labels=labels,right=False)\n",
    "    return pd.get_dummies(d,columns=['hour_bin'])\n"
   ]
  },
  {
   "cell_type": "code",
   "execution_count": 62,
   "id": "1c1a8df2",
   "metadata": {},
   "outputs": [],
   "source": [
    "def profile(f,*a): return timeit.repeat(lambda: f(*a),repeat=3,number=1)"
   ]
  },
  {
   "cell_type": "code",
   "execution_count": 65,
   "id": "6d823a5f",
   "metadata": {},
   "outputs": [
    {
     "name": "stdout",
     "output_type": "stream",
     "text": [
      "Time GAP>5: [0.007057000009808689, 0.006553999963216484, 0.006424200022593141]\n",
      "Кореляції: {'pearson': np.float64(0.9988840298467077), 'spearman': np.float64(0.9954260476051768)}\n",
      "One-hot приклад:\n",
      "              DateTime  GAP_kW  GRP_kVAR  Voltage_V  Intensity_A  Kitchen_Wh  \\\n",
      "0 2006-12-16 17:24:00   4.216     0.418     234.84         18.4         0.0   \n",
      "1 2006-12-16 17:25:00   5.360     0.436     233.63         23.0         0.0   \n",
      "2 2006-12-16 17:26:00   5.374     0.498     233.29         23.0         0.0   \n",
      "3 2006-12-16 17:27:00   5.388     0.502     233.74         23.0         0.0   \n",
      "4 2006-12-16 17:28:00   3.666     0.528     235.68         15.8         0.0   \n",
      "\n",
      "   Laundry_Wh  Water_heater_Wh  hour  hour_bin_night  hour_bin_morning  \\\n",
      "0         1.0             17.0    17           False             False   \n",
      "1         1.0             16.0    17           False             False   \n",
      "2         2.0             17.0    17           False             False   \n",
      "3         1.0             17.0    17           False             False   \n",
      "4         1.0             17.0    17           False             False   \n",
      "\n",
      "   hour_bin_afternoon  hour_bin_evening  \n",
      "0                True             False  \n",
      "1                True             False  \n",
      "2                True             False  \n",
      "3                True             False  \n",
      "4                True             False  \n"
     ]
    }
   ],
   "source": [
    "sel1 = select_gap_gt_5(df)\n",
    "sel2 = select_intensity(df)\n",
    "mean500k = sample_mean(df)\n",
    "sel3 = select_after18(df)\n",
    "\n",
    "df_normstd = normalize_std(df.head(10000))\n",
    "corrs = correlations(df)\n",
    "df_encoded = one_hot_hour(df.head(1000))\n",
    "\n",
    "print(\"Time GAP>5:\", profile(select_gap_gt_5,df))\n",
    "print(\"Кореляції:\", corrs)\n",
    "print(\"One-hot приклад:\\n\", df_encoded.head())"
   ]
  }
 ],
 "metadata": {
  "kernelspec": {
   "display_name": "venv1",
   "language": "python",
   "name": "python3"
  },
  "language_info": {
   "codemirror_mode": {
    "name": "ipython",
    "version": 3
   },
   "file_extension": ".py",
   "mimetype": "text/x-python",
   "name": "python",
   "nbconvert_exporter": "python",
   "pygments_lexer": "ipython3",
   "version": "3.13.7"
  }
 },
 "nbformat": 4,
 "nbformat_minor": 5
}
