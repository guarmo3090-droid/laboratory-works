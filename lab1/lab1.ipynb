{
 "cells": [
  {
   "cell_type": "code",
   "execution_count": 1,
   "id": "3dce2370",
   "metadata": {},
   "outputs": [],
   "source": [
    "import urllib\n",
    "import os\n",
    "import pandas as pd\n",
    "from datetime import datetime\n",
    "import glob\n",
    "from io import StringIO"
   ]
  },
  {
   "cell_type": "code",
   "execution_count": 2,
   "id": "180cb2f3",
   "metadata": {},
   "outputs": [],
   "source": [
    "foldername = \"provinces\"\n",
    "os.makedirs(foldername, exist_ok=True)\n",
    "\n"
   ]
  },
  {
   "cell_type": "code",
   "execution_count": 3,
   "id": "f709733b",
   "metadata": {},
   "outputs": [],
   "source": [
    "def downloadprovince(id: int):\n",
    "    url = f\"https://www.star.nesdis.noaa.gov/smcd/emb/vci/VH/get_TS_admin.php?country=UKR&provinceID={id}&year1=1981&year2=2024&type=Mean\"\n",
    "    timestamp = datetime.now().strftime(\"%Y%m%d_%H%M%S\")\n",
    "    filename = f\"Province{id}_{timestamp}.csv\"\n",
    "    filepath = os.path.join(foldername, filename)\n",
    "\n",
    "    try:\n",
    "        print(f\"[INFO] Завантаження provinceID={id}...\")\n",
    "        urllib.request.urlretrieve(url, filepath)\n",
    "        print(f\"[OK] Файл збережено: {filepath}\")\n",
    "    except Exception as e:\n",
    "        print(f\"[ERROR] Не вдалося завантажити provinceID={id}: {e}\")"
   ]
  },
  {
   "cell_type": "code",
   "execution_count": 4,
   "id": "40aa8ca3",
   "metadata": {},
   "outputs": [
    {
     "name": "stdout",
     "output_type": "stream",
     "text": [
      "[INFO] Завантаження provinceID=8...\n",
      "[OK] Файл збережено: provinces\\Province8_20250925_175313.csv\n"
     ]
    }
   ],
   "source": [
    "\n",
    "downloadprovince(8)"
   ]
  },
  {
   "cell_type": "code",
   "execution_count": 7,
   "id": "bc69f989",
   "metadata": {},
   "outputs": [
    {
     "name": "stdout",
     "output_type": "stream",
     "text": [
      "Читаю файл: provinces\\Province8_20250925_175313.csv\n",
      "   year  week    SMN     SMT    VCI    TCI    VHI\n",
      "0  1982     1  0.038  252.22  47.05  69.15  58.10\n",
      "1  1982     2  0.036  253.39  45.39  63.52  54.45\n",
      "2  1982     3  0.033  254.22  41.22  60.22  50.72\n",
      "3  1982     4  0.031  255.60  37.35  58.01  47.68\n",
      "4  1982     5  0.030  257.16  32.54  56.92  44.73\n"
     ]
    }
   ],
   "source": [
    "files = glob.glob(\"provinces/Province8_*.csv\")\n",
    "if files:\n",
    "    latestfile = sorted(files)[-1]\n",
    "    print(f\"Читаю файл: {latestfile}\")\n",
    "\n",
    "    with open(latestfile, 'r', encoding='utf-8') as f:\n",
    "        lines = f.readlines()\n",
    "    lines = [line.replace('<tt><pre>', '').replace('</pre></tt>', '') for line in lines]\n",
    "\n",
    "    \n",
    "    data_lines = [line for line in lines if not line.startswith('<') and not line.startswith('Mean') and not line.startswith('year')]\n",
    "\n",
    "    \n",
    "    data_lines = [line.rstrip().rstrip(',') + '\\n' for line in data_lines]\n",
    "\n",
    "    data_csv = ''.join(data_lines)\n",
    "\n",
    "    columns = ['year', 'week', 'SMN', 'SMT', 'VCI', 'TCI', 'VHI']\n",
    "    df = pd.read_csv(StringIO(data_csv), names=columns)\n",
    "\n",
    "    df = df.dropna(how='all')\n",
    "\n",
    "    print(df.head())"
   ]
  }
 ],
 "metadata": {
  "kernelspec": {
   "display_name": "venv1",
   "language": "python",
   "name": "python3"
  },
  "language_info": {
   "codemirror_mode": {
    "name": "ipython",
    "version": 3
   },
   "file_extension": ".py",
   "mimetype": "text/x-python",
   "name": "python",
   "nbconvert_exporter": "python",
   "pygments_lexer": "ipython3",
   "version": "3.13.7"
  }
 },
 "nbformat": 4,
 "nbformat_minor": 5
}
