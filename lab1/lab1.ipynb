{
 "cells": [
  {
   "cell_type": "code",
   "execution_count": null,
   "id": "72e913f4",
   "metadata": {},
   "outputs": [],
   "source": [
    "import urllib.request\n",
    "import os\n",
    "import pandas as pd\n",
    "import numpy as np\n",
    "from datetime import datetime\n",
    "import glob\n",
    "from io import StringIO"
   ]
  },
  {
   "cell_type": "code",
   "execution_count": null,
   "id": "ff120962",
   "metadata": {},
   "outputs": [],
   "source": [
    "foldername = \"provinces\"\n",
    "os.makedirs(foldername, exist_ok=True)"
   ]
  },
  {
   "cell_type": "code",
   "execution_count": null,
   "id": "50cb4663",
   "metadata": {},
   "outputs": [],
   "source": [
    "ukr_provinces_ordered = [\n",
    "    \"Вінницька\", \"Волинська\", \"Дніпропетровська\", \"Донецька\", \"Житомирська\",\n",
    "    \"Закарпатська\", \"Запорізька\", \"Івано-Франківська\", \"Київська\", \"Кіровоградська\",\n",
    "    \"Луганська\", \"Львівська\", \"Миколаївська\", \"Одеська\", \"Полтавська\",\n",
    "    \"Рівненська\", \"Сумська\", \"Тернопільська\", \"Харківська\", \"Херсонська\",\n",
    "    \"Хмельницька\", \"Черкаська\", \"Чернівецька\", \"Чернігівська\",\n",
    "    \"м.Київ\", \"АР Крим\", \"Севастополь\"\n",
    "]"
   ]
  },
  {
   "cell_type": "code",
   "execution_count": null,
   "id": "d712d325",
   "metadata": {},
   "outputs": [],
   "source": [
    "def download_province(province_id: int):\n",
    "    if province_id == 0:  # пропускаємо середнє по Україні\n",
    "        return\n",
    "\n",
    "    url = f\"https://www.star.nesdis.noaa.gov/smcd/emb/vci/VH/get_TS_admin.php?country=UKR&provinceID={province_id}&year1=1981&year2=2024&type=Mean\"\n",
    "    timestamp = datetime.now().strftime(\"%Y%m%d_%H%M%S\")\n",
    "    filename = f\"Province{province_id}_{timestamp}.csv\"\n",
    "    filepath = os.path.join(foldername, filename)\n",
    "\n",
    "    existing_files = glob.glob(f\"{foldername}/Province{province_id}_*.csv\")\n",
    "    if existing_files:\n",
    "        print(f\"[SKIP] Файл для provinceID={province_id} вже існує ({len(existing_files)} шт.)\")\n",
    "        return\n",
    "\n",
    "    try:\n",
    "        print(f\"[INFO] Завантаження provinceID={province_id}...\")\n",
    "        urllib.request.urlretrieve(url, filepath)\n",
    "        print(f\"[OK] Збережено: {filepath}\")\n",
    "    except Exception as e:\n",
    "        print(f\"[ERROR] Не вдалося завантажити provinceID={province_id}: {e}\")"
   ]
  },
  {
   "cell_type": "code",
   "execution_count": null,
   "id": "8e54f451",
   "metadata": {},
   "outputs": [
    {
     "name": "stdout",
     "output_type": "stream",
     "text": [
      "[DEBUG] Читаю файл provinces\\Province1_20250929_10h49m51s.csv\n",
      "[DEBUG] Читаю файл provinces\\Province2_20250929_10h49m51s.csv\n",
      "[DEBUG] Читаю файл provinces\\Province3_20250929_10h49m52s.csv\n",
      "[DEBUG] Читаю файл provinces\\Province4_20250929_10h49m53s.csv\n",
      "[DEBUG] Читаю файл provinces\\Province5_20250929_10h49m54s.csv\n",
      "[DEBUG] Читаю файл provinces\\Province6_20250929_10h49m55s.csv\n"
     ]
    },
    {
     "name": "stderr",
     "output_type": "stream",
     "text": [
      "C:\\Users\\Даня\\AppData\\Local\\Temp\\ipykernel_11456\\927788457.py:33: FutureWarning: DataFrame.applymap has been deprecated. Use DataFrame.map instead.\n",
      "  df = df.applymap(lambda x: str(x).strip() if isinstance(x, str) else x)\n",
      "C:\\Users\\Даня\\AppData\\Local\\Temp\\ipykernel_11456\\927788457.py:33: FutureWarning: DataFrame.applymap has been deprecated. Use DataFrame.map instead.\n",
      "  df = df.applymap(lambda x: str(x).strip() if isinstance(x, str) else x)\n",
      "C:\\Users\\Даня\\AppData\\Local\\Temp\\ipykernel_11456\\927788457.py:33: FutureWarning: DataFrame.applymap has been deprecated. Use DataFrame.map instead.\n",
      "  df = df.applymap(lambda x: str(x).strip() if isinstance(x, str) else x)\n",
      "C:\\Users\\Даня\\AppData\\Local\\Temp\\ipykernel_11456\\927788457.py:33: FutureWarning: DataFrame.applymap has been deprecated. Use DataFrame.map instead.\n",
      "  df = df.applymap(lambda x: str(x).strip() if isinstance(x, str) else x)\n",
      "C:\\Users\\Даня\\AppData\\Local\\Temp\\ipykernel_11456\\927788457.py:33: FutureWarning: DataFrame.applymap has been deprecated. Use DataFrame.map instead.\n",
      "  df = df.applymap(lambda x: str(x).strip() if isinstance(x, str) else x)\n",
      "C:\\Users\\Даня\\AppData\\Local\\Temp\\ipykernel_11456\\927788457.py:33: FutureWarning: DataFrame.applymap has been deprecated. Use DataFrame.map instead.\n",
      "  df = df.applymap(lambda x: str(x).strip() if isinstance(x, str) else x)\n"
     ]
    },
    {
     "name": "stdout",
     "output_type": "stream",
     "text": [
      "[DEBUG] Читаю файл provinces\\Province7_20250929_10h49m56s.csv\n",
      "[DEBUG] Читаю файл provinces\\Province8_20250929_10h49m57s.csv\n",
      "[DEBUG] Читаю файл provinces\\Province9_20250929_10h49m57s.csv\n",
      "[DEBUG] Читаю файл provinces\\Province10_20250929_10h49m58s.csv\n",
      "[DEBUG] Читаю файл provinces\\Province11_20250929_10h49m59s.csv\n",
      "[DEBUG] Читаю файл provinces\\Province12_20250929_10h50m00s.csv\n"
     ]
    },
    {
     "name": "stderr",
     "output_type": "stream",
     "text": [
      "C:\\Users\\Даня\\AppData\\Local\\Temp\\ipykernel_11456\\927788457.py:33: FutureWarning: DataFrame.applymap has been deprecated. Use DataFrame.map instead.\n",
      "  df = df.applymap(lambda x: str(x).strip() if isinstance(x, str) else x)\n",
      "C:\\Users\\Даня\\AppData\\Local\\Temp\\ipykernel_11456\\927788457.py:33: FutureWarning: DataFrame.applymap has been deprecated. Use DataFrame.map instead.\n",
      "  df = df.applymap(lambda x: str(x).strip() if isinstance(x, str) else x)\n",
      "C:\\Users\\Даня\\AppData\\Local\\Temp\\ipykernel_11456\\927788457.py:33: FutureWarning: DataFrame.applymap has been deprecated. Use DataFrame.map instead.\n",
      "  df = df.applymap(lambda x: str(x).strip() if isinstance(x, str) else x)\n",
      "C:\\Users\\Даня\\AppData\\Local\\Temp\\ipykernel_11456\\927788457.py:33: FutureWarning: DataFrame.applymap has been deprecated. Use DataFrame.map instead.\n",
      "  df = df.applymap(lambda x: str(x).strip() if isinstance(x, str) else x)\n",
      "C:\\Users\\Даня\\AppData\\Local\\Temp\\ipykernel_11456\\927788457.py:33: FutureWarning: DataFrame.applymap has been deprecated. Use DataFrame.map instead.\n",
      "  df = df.applymap(lambda x: str(x).strip() if isinstance(x, str) else x)\n",
      "C:\\Users\\Даня\\AppData\\Local\\Temp\\ipykernel_11456\\927788457.py:33: FutureWarning: DataFrame.applymap has been deprecated. Use DataFrame.map instead.\n",
      "  df = df.applymap(lambda x: str(x).strip() if isinstance(x, str) else x)\n",
      "C:\\Users\\Даня\\AppData\\Local\\Temp\\ipykernel_11456\\927788457.py:33: FutureWarning: DataFrame.applymap has been deprecated. Use DataFrame.map instead.\n",
      "  df = df.applymap(lambda x: str(x).strip() if isinstance(x, str) else x)\n"
     ]
    },
    {
     "name": "stdout",
     "output_type": "stream",
     "text": [
      "[DEBUG] Читаю файл provinces\\Province13_20250929_10h50m01s.csv\n",
      "[DEBUG] Читаю файл provinces\\Province14_20250929_10h50m02s.csv\n",
      "[DEBUG] Читаю файл provinces\\Province15_20250929_10h50m03s.csv\n",
      "[DEBUG] Читаю файл provinces\\Province16_20250929_10h50m04s.csv\n",
      "[DEBUG] Читаю файл provinces\\Province17_20250929_10h50m04s.csv\n",
      "[DEBUG] Читаю файл provinces\\Province18_20250929_10h50m05s.csv\n"
     ]
    },
    {
     "name": "stderr",
     "output_type": "stream",
     "text": [
      "C:\\Users\\Даня\\AppData\\Local\\Temp\\ipykernel_11456\\927788457.py:33: FutureWarning: DataFrame.applymap has been deprecated. Use DataFrame.map instead.\n",
      "  df = df.applymap(lambda x: str(x).strip() if isinstance(x, str) else x)\n",
      "C:\\Users\\Даня\\AppData\\Local\\Temp\\ipykernel_11456\\927788457.py:33: FutureWarning: DataFrame.applymap has been deprecated. Use DataFrame.map instead.\n",
      "  df = df.applymap(lambda x: str(x).strip() if isinstance(x, str) else x)\n",
      "C:\\Users\\Даня\\AppData\\Local\\Temp\\ipykernel_11456\\927788457.py:33: FutureWarning: DataFrame.applymap has been deprecated. Use DataFrame.map instead.\n",
      "  df = df.applymap(lambda x: str(x).strip() if isinstance(x, str) else x)\n",
      "C:\\Users\\Даня\\AppData\\Local\\Temp\\ipykernel_11456\\927788457.py:33: FutureWarning: DataFrame.applymap has been deprecated. Use DataFrame.map instead.\n",
      "  df = df.applymap(lambda x: str(x).strip() if isinstance(x, str) else x)\n",
      "C:\\Users\\Даня\\AppData\\Local\\Temp\\ipykernel_11456\\927788457.py:33: FutureWarning: DataFrame.applymap has been deprecated. Use DataFrame.map instead.\n",
      "  df = df.applymap(lambda x: str(x).strip() if isinstance(x, str) else x)\n",
      "C:\\Users\\Даня\\AppData\\Local\\Temp\\ipykernel_11456\\927788457.py:33: FutureWarning: DataFrame.applymap has been deprecated. Use DataFrame.map instead.\n",
      "  df = df.applymap(lambda x: str(x).strip() if isinstance(x, str) else x)\n"
     ]
    },
    {
     "name": "stdout",
     "output_type": "stream",
     "text": [
      "[DEBUG] Читаю файл provinces\\Province19_20250929_10h50m06s.csv\n",
      "[DEBUG] Читаю файл provinces\\Province20_20250929_10h50m07s.csv\n",
      "[DEBUG] Читаю файл provinces\\Province21_20250929_10h50m08s.csv\n",
      "[DEBUG] Читаю файл provinces\\Province22_20250929_10h50m09s.csv\n",
      "[DEBUG] Читаю файл provinces\\Province23_20250929_10h50m10s.csv\n"
     ]
    },
    {
     "name": "stderr",
     "output_type": "stream",
     "text": [
      "C:\\Users\\Даня\\AppData\\Local\\Temp\\ipykernel_11456\\927788457.py:33: FutureWarning: DataFrame.applymap has been deprecated. Use DataFrame.map instead.\n",
      "  df = df.applymap(lambda x: str(x).strip() if isinstance(x, str) else x)\n",
      "C:\\Users\\Даня\\AppData\\Local\\Temp\\ipykernel_11456\\927788457.py:33: FutureWarning: DataFrame.applymap has been deprecated. Use DataFrame.map instead.\n",
      "  df = df.applymap(lambda x: str(x).strip() if isinstance(x, str) else x)\n",
      "C:\\Users\\Даня\\AppData\\Local\\Temp\\ipykernel_11456\\927788457.py:33: FutureWarning: DataFrame.applymap has been deprecated. Use DataFrame.map instead.\n",
      "  df = df.applymap(lambda x: str(x).strip() if isinstance(x, str) else x)\n",
      "C:\\Users\\Даня\\AppData\\Local\\Temp\\ipykernel_11456\\927788457.py:33: FutureWarning: DataFrame.applymap has been deprecated. Use DataFrame.map instead.\n",
      "  df = df.applymap(lambda x: str(x).strip() if isinstance(x, str) else x)\n",
      "C:\\Users\\Даня\\AppData\\Local\\Temp\\ipykernel_11456\\927788457.py:33: FutureWarning: DataFrame.applymap has been deprecated. Use DataFrame.map instead.\n",
      "  df = df.applymap(lambda x: str(x).strip() if isinstance(x, str) else x)\n",
      "C:\\Users\\Даня\\AppData\\Local\\Temp\\ipykernel_11456\\927788457.py:33: FutureWarning: DataFrame.applymap has been deprecated. Use DataFrame.map instead.\n",
      "  df = df.applymap(lambda x: str(x).strip() if isinstance(x, str) else x)\n"
     ]
    },
    {
     "name": "stdout",
     "output_type": "stream",
     "text": [
      "[DEBUG] Читаю файл provinces\\Province24_20250929_10h50m10s.csv\n",
      "[DEBUG] Читаю файл provinces\\Province25_20250929_10h50m11s.csv\n",
      "[DEBUG] Читаю файл provinces\\Province26_20250929_10h50m12s.csv\n",
      "[DEBUG] Читаю файл provinces\\Province27_20250929_10h50m13s.csv\n",
      "    year   week     SMN    SMT    VCI    TCI  VHI  provinceID provinceName\n",
      "0      1  0.053  260.31  45.01  39.46  42.23  NaN           1    Вінницька\n",
      "1      2  0.054  262.29  46.83  31.75  39.29  NaN           1    Вінницька\n",
      "2      3  0.055  263.82  48.13  27.24  37.68  NaN           1    Вінницька\n",
      "3      4  0.053  265.33  46.09  23.91  35.00  NaN           1    Вінницька\n",
      "4      5  0.050  265.66  41.46  26.65  34.06  NaN           1    Вінницька\n",
      "5      6  0.048  266.55  36.56  29.46  33.01  NaN           1    Вінницька\n",
      "6      7  0.048  267.84  32.17  31.14  31.65  NaN           1    Вінницька\n",
      "7      8  0.050  269.30  30.30  32.50  31.40  NaN           1    Вінницька\n",
      "8      9  0.052  270.75  28.23  35.22  31.73  NaN           1    Вінницька\n",
      "9     10  0.056  272.73  25.25  37.63  31.44  NaN           1    Вінницька\n",
      "10    11  0.069  275.46  26.81  34.79  30.80  NaN           1    Вінницька\n",
      "11    12  0.085  278.05  27.87  35.91  31.89  NaN           1    Вінницька\n",
      "12    13  0.096  279.89  26.45  40.30  33.37  NaN           1    Вінницька\n",
      "13    14  0.109  281.55  22.93  45.47  34.20  NaN           1    Вінницька\n",
      "14    15  0.120  282.57  16.15  59.42  37.78  NaN           1    Вінницька\n",
      "15    16  0.145  284.04  13.92  73.70  43.81  NaN           1    Вінницька\n",
      "16    17  0.180  286.05  15.91  83.78  49.85  NaN           1    Вінницька\n",
      "17    18  0.236  288.73  25.98  83.95  54.97  NaN           1    Вінницька\n",
      "18    19  0.292  291.42  34.53  77.20  55.86  NaN           1    Вінницька\n",
      "19    20  0.336  293.07  38.39  70.79  54.59  NaN           1    Вінницька\n",
      "20    21  0.366  293.62  38.62  71.80  55.21  NaN           1    Вінницька\n",
      "21    22  0.383  293.55  34.90  75.39  55.14  NaN           1    Вінницька\n",
      "22    23  0.391  293.47  29.29  77.99  53.64  NaN           1    Вінницька\n",
      "23    24  0.395  293.51  27.50  80.68  54.09  NaN           1    Вінницька\n",
      "24    25  0.396  293.26  27.46  86.21  56.84  NaN           1    Вінницька\n",
      "25    26  0.395  293.16  27.71  89.14  58.43  NaN           1    Вінницька\n",
      "26    27  0.394  293.50  29.53  88.81  59.17  NaN           1    Вінницька\n",
      "27    28  0.392  293.83  34.04  88.18  61.11  NaN           1    Вінницька\n",
      "28    29  0.393  294.17  39.85  87.00  63.42  NaN           1    Вінницька\n",
      "29    30  0.388  294.43  43.47  85.68  64.58  NaN           1    Вінницька\n",
      "30    31  0.383  294.83  44.62  81.04  62.83  NaN           1    Вінницька\n",
      "31    32  0.378  295.30  46.78  73.25  60.01  NaN           1    Вінницька\n",
      "32    33  0.374  295.43  50.98  66.04  58.51  NaN           1    Вінницька\n",
      "33    34  0.368  295.30  54.79  59.39  57.09  NaN           1    Вінницька\n",
      "34    35  0.362  294.95  60.47  50.47  55.47  NaN           1    Вінницька\n",
      "35    36  0.352  294.40  65.80  40.42  53.11  NaN           1    Вінницька\n",
      "36    37  0.332  293.49  67.37  32.84  50.10  NaN           1    Вінницька\n",
      "37    38  0.313  292.14  68.18  30.20  49.19  NaN           1    Вінницька\n",
      "38    39  0.287  290.29  64.53  31.40  47.97  NaN           1    Вінницька\n",
      "39    40  0.250  287.91  54.93  35.92  45.43  NaN           1    Вінницька\n",
      "40    41  0.211  285.34  44.69  37.53  41.11  NaN           1    Вінницька\n",
      "41    42  0.174  282.92  36.32  36.38  36.35  NaN           1    Вінницька\n",
      "42    43  0.147  280.78  35.06  34.47  34.76  NaN           1    Вінницька\n",
      "43    44  0.126  279.06  35.39  22.51  28.95  NaN           1    Вінницька\n",
      "44    45  0.105  277.36  32.35  16.01  24.18  NaN           1    Вінницька\n",
      "45    46  0.088  275.31  32.21  15.45  23.83  NaN           1    Вінницька\n",
      "46    47  0.072  272.39  29.41  21.78  25.60  NaN           1    Вінницька\n",
      "47    48  0.061  269.21  28.24  31.16  29.70  NaN           1    Вінницька\n",
      "48    49  0.052  266.27  25.02  38.86  31.94  NaN           1    Вінницька\n",
      "49    50  0.044  263.47  22.98  43.60  33.29  NaN           1    Вінницька\n",
      "<class 'pandas.core.frame.DataFrame'>\n",
      "RangeIndex: 60372 entries, 0 to 60371\n",
      "Data columns (total 9 columns):\n",
      " #   Column        Non-Null Count  Dtype  \n",
      "---  ------        --------------  -----  \n",
      " 0   year          60372 non-null  int64  \n",
      " 1   week          60372 non-null  float64\n",
      " 2   SMN           60372 non-null  float64\n",
      " 3   SMT           60372 non-null  float64\n",
      " 4   VCI           60372 non-null  float64\n",
      " 5   TCI           60372 non-null  float64\n",
      " 6   VHI           0 non-null      float64\n",
      " 7   provinceID    60372 non-null  int64  \n",
      " 8   provinceName  60372 non-null  object \n",
      "dtypes: float64(6), int64(2), object(1)\n",
      "memory usage: 4.1+ MB\n",
      "None\n"
     ]
    },
    {
     "name": "stderr",
     "output_type": "stream",
     "text": [
      "C:\\Users\\Даня\\AppData\\Local\\Temp\\ipykernel_11456\\927788457.py:33: FutureWarning: DataFrame.applymap has been deprecated. Use DataFrame.map instead.\n",
      "  df = df.applymap(lambda x: str(x).strip() if isinstance(x, str) else x)\n",
      "C:\\Users\\Даня\\AppData\\Local\\Temp\\ipykernel_11456\\927788457.py:33: FutureWarning: DataFrame.applymap has been deprecated. Use DataFrame.map instead.\n",
      "  df = df.applymap(lambda x: str(x).strip() if isinstance(x, str) else x)\n"
     ]
    }
   ],
   "source": [
    "for pid in range(1, 28):\n",
    "    download_province(pid)\n"
   ]
  },
  {
   "cell_type": "code",
   "execution_count": null,
   "id": "8a3f7944",
   "metadata": {},
   "outputs": [
    {
     "name": "stdout",
     "output_type": "stream",
     "text": [
      "year               0\n",
      "week               0\n",
      "SMN                0\n",
      "SMT                0\n",
      "VCI                0\n",
      "TCI                0\n",
      "VHI             2236\n",
      "provinceID         0\n",
      "provinceName       0\n",
      "dtype: int64\n"
     ]
    }
   ],
   "source": [
    "all_provinces_data = []\n",
    "\n",
    "for pid in range(1, 28):\n",
    "    files = glob.glob(f\"{foldername}/Province{pid}_*.csv\")\n",
    "    if not files:\n",
    "        print(f\"[WARNING] Немає файлів для provinceID={pid}\")\n",
    "        continue\n",
    "\n",
    "    latestfile = sorted(files)[-1]\n",
    "    print(f\"\\n=== Область {pid}: файл {latestfile} ===\")\n",
    "\n",
    "    with open(latestfile, 'r', encoding='utf-8') as f:\n",
    "        lines = f.readlines()\n",
    "\n",
    "    # Видаляємо HTML-теги та зайві рядки\n",
    "    data_lines = [line.replace('<tt><pre>', '').replace('</pre></tt>', '').rstrip().rstrip(',') + '\\n'\n",
    "              for line in lines if not line.startswith(('Mean', 'year'))]\n",
    "\n",
    "    data_csv = ''.join(data_lines)\n",
    "    columns = ['year', 'week', 'SMN', 'SMT', 'VCI', 'TCI', 'VHI']\n",
    "    df = pd.read_csv(StringIO(data_csv), names=columns)\n",
    "\n",
    "    # Замінюємо -1 та всі від'ємні значення на NaN\n",
    "    for col in ['SMN','SMT','VCI','TCI','VHI']:\n",
    "        df[col] = df[col].apply(lambda x: np.nan if x <= 0 else x)\n",
    "\n",
    "    # Заповнюємо пропуски: спочатку forward fill, потім backward fill\n",
    "    df.fillna(method='ffill', inplace=True)\n",
    "    df.fillna(method='bfill', inplace=True)\n",
    "\n",
    "    # Додаємо колонку з англійським порядком (тимчасово)\n",
    "    df['old_province_id'] = pid\n",
    "\n",
    "    all_provinces_data.append(df)\n",
    "\n",
    "# Об'єднуємо всі області в один DataFrame\n",
    "df_all = pd.concat(all_provinces_data, ignore_index=True)\n",
    "\n",
    "# Перенумерація областей за українською абеткою\n",
    "old_to_new_id = {old_id: new_id+1 for new_id, old_id in enumerate(range(1,28))}\n",
    "df_all['province_id'] = df_all['old_province_id'].map(old_to_new_id)\n",
    "df_all['province_name'] = df_all['province_id'].map({i+1: name for i, name in enumerate(ukr_provinces_ordered)})\n",
    "\n",
    "# Видаляємо тимчасову колонку\n",
    "df_all.drop(columns=['old_province_id'], inplace=True)\n",
    "\n",
    "# Вивід для перевірки\n",
    "print(\"\\n=== Перші 5 рядків об'єднаного та очищеного DataFrame ===\")\n",
    "print(df_all.head())\n",
    "\n",
    "print(\"\\n=== Загальна статистика по всіх областях ===\")\n",
    "print(df_all.describe())"
   ]
  },
  {
   "cell_type": "code",
   "execution_count": null,
   "id": "4788214b",
   "metadata": {},
   "outputs": [],
   "source": [
    "#Ряд VHI для області за вказаний рік\n",
    "def get_vhi_all_provinces_year(df, year):\n",
    "    \"\"\"\n",
    "    Повертає VHI для всіх областей за вказаний рік.\n",
    "    \"\"\"\n",
    "    df_filtered = df[df['year'] == year]\n",
    "    if df_filtered.empty:\n",
    "        print(f\"[INFO] Даних за {year} немає\")\n",
    "        return pd.DataFrame()\n",
    "    print(f\"VHI для всіх областей у {year}:\")\n",
    "    return df_filtered[['province_name','year','week','VHI']]"
   ]
  },
  {
   "cell_type": "code",
   "execution_count": null,
   "id": "2945b3e8",
   "metadata": {},
   "outputs": [],
   "source": [
    "# Ряд VHI за вказаний діапазон років для областей\n",
    "def get_vhi_all_provinces_years(df, year_start, year_end):\n",
    "    \"\"\"\n",
    "    Повертає VHI для всіх областей за діапазон років.\n",
    "    \"\"\"\n",
    "    df_filtered = df[(df['year'] >= year_start) & (df['year'] <= year_end)]\n",
    "    if df_filtered.empty:\n",
    "        print(f\"[INFO] Даних за {year_start}-{year_end} немає\")\n",
    "        return pd.DataFrame()\n",
    "    print(f\"VHI для всіх областей у {year_start}-{year_end}:\")\n",
    "    return df_filtered[['province_name','year','week','VHI']]\n"
   ]
  },
  {
   "cell_type": "code",
   "execution_count": null,
   "id": "81921ed9",
   "metadata": {},
   "outputs": [],
   "source": [
    "# Пошук екстремумів (min та max), середнього, медіани\n",
    "def vhi_statistics_all_provinces(df, year_start=None, year_end=None):\n",
    "    \"\"\"\n",
    "    Обчислює статистику (min, max, mean, median) для VHI для всіх областей.\n",
    "    \"\"\"\n",
    "    df_filtered = df.copy()\n",
    "    if year_start is not None:\n",
    "        df_filtered = df_filtered[df_filtered['year'] >= year_start]\n",
    "    if year_end is not None:\n",
    "        df_filtered = df_filtered[df_filtered['year'] <= year_end]\n",
    "    \n",
    "    if df_filtered.empty:\n",
    "        print(f\"[INFO] Даних у зазначений період немає\")\n",
    "        return pd.DataFrame()\n",
    "    \n",
    "    stats = df_filtered.groupby('province_name')['VHI'].agg(['min','max','mean','median'])\n",
    "    print(f\"Статистика VHI для всіх областей у {year_start}-{year_end}:\")\n",
    "    return stats"
   ]
  },
  {
   "cell_type": "code",
   "execution_count": null,
   "id": "bf903d31",
   "metadata": {},
   "outputs": [
    {
     "name": "stdout",
     "output_type": "stream",
     "text": [
      "Empty DataFrame\n",
      "Columns: [year, week, VHI]\n",
      "Index: []\n",
      "[INFO] Даних немає для ['Львівська', 'Харківська'] у 1990–1995 роках\n",
      "[INFO] Даних немає для ['Вінницька', 'Дніпропетровська'] у [2010, 2011, 2012, 2013, 2014, 2015]\n"
     ]
    }
   ],
   "source": [
    "# Вивід VHI \n",
    "vhi_all_2010 = get_vhi_all_provinces_year(df_all, 2010)\n",
    "print(vhi_all_2010.head())\n",
    "\n",
    "# VHI для всіх областей за 2000-2005 роки\n",
    "vhi_all_2000_2005 = get_vhi_all_provinces_years(df_all, 2000, 2005)\n",
    "print(vhi_all_2000_2005.head())\n",
    "\n",
    "# Статистика VHI для всіх областей за 2000-2005 роки\n",
    "vhi_stats_all = vhi_statistics_all_provinces(df_all, 2000, 2005)\n",
    "print(vhi_stats_all)"
   ]
  },
  {
   "cell_type": "code",
   "execution_count": null,
   "id": "19391400",
   "metadata": {},
   "outputs": [],
   "source": [
    "province_map = {i+1: name for i, name in enumerate(ukr_provinces_ordered)}\n",
    "print(province_map)"
   ]
  },
  {
   "cell_type": "code",
   "execution_count": null,
   "id": "cdd91315",
   "metadata": {},
   "outputs": [],
   "source": [
    "print(df_all['province_name'].value_counts().sort_index())"
   ]
  },
  {
   "cell_type": "code",
   "execution_count": null,
   "id": "d36f3c96",
   "metadata": {},
   "outputs": [],
   "source": [
    "print(df_all[df_all['province_name']=='м.Київ'].head())"
   ]
  }
 ],
 "metadata": {
  "kernelspec": {
   "display_name": "venv1",
   "language": "python",
   "name": "python3"
  },
  "language_info": {
   "codemirror_mode": {
    "name": "ipython",
    "version": 3
   },
   "file_extension": ".py",
   "mimetype": "text/x-python",
   "name": "python",
   "nbconvert_exporter": "python",
   "pygments_lexer": "ipython3",
   "version": "3.13.7"
  }
 },
 "nbformat": 4,
 "nbformat_minor": 5
}
