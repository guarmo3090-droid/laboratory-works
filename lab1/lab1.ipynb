{
 "cells": [
  {
   "cell_type": "code",
   "execution_count": 21,
   "id": "72e913f4",
   "metadata": {},
   "outputs": [],
   "source": [
    "import urllib\n",
    "import os\n",
    "import pandas as pd\n",
    "from datetime import datetime\n",
    "import glob\n",
    "from io import StringIO"
   ]
  },
  {
   "cell_type": "code",
   "execution_count": 22,
   "id": "ff120962",
   "metadata": {},
   "outputs": [],
   "source": [
    "foldername = \"provinces\""
   ]
  },
  {
   "cell_type": "code",
   "execution_count": 23,
   "id": "50cb4663",
   "metadata": {},
   "outputs": [],
   "source": [
    "def downloadprovince(id: int):\n",
    "    url = f\"https://www.star.nesdis.noaa.gov/smcd/emb/vci/VH/get_TS_admin.php?country=UKR&provinceID={id}&year1=1981&year2=2024&type=Mean\"\n",
    "    timestamp = datetime.now().strftime(\"%Y%m%d_%Hh%Mm%Ss\")\n",
    "    filename = f\"Province{id}_{timestamp}.csv\"\n",
    "    filepath = os.path.join(foldername, filename)\n",
    "\n",
    "    try:\n",
    "        print(f\"[INFO] Завантаження provinceID={id}...\")\n",
    "        urllib.request.urlretrieve(url, filepath)\n",
    "        print(f\"[OK] Збережено: {filepath}\")\n",
    "    except Exception as e:\n",
    "        print(f\"[ERROR] Не вдалося завантажити provinceID={id}: {e}\")"
   ]
  },
  {
   "cell_type": "code",
   "execution_count": 24,
   "id": "e5fc45b8",
   "metadata": {},
   "outputs": [
    {
     "name": "stdout",
     "output_type": "stream",
     "text": [
      "[INFO] Завантаження provinceID=1...\n",
      "[OK] Збережено: provinces\\Province1_20250925_18h27m44s.csv\n",
      "[INFO] Завантаження provinceID=2...\n",
      "[OK] Збережено: provinces\\Province2_20250925_18h27m45s.csv\n",
      "[INFO] Завантаження provinceID=3...\n",
      "[OK] Збережено: provinces\\Province3_20250925_18h27m46s.csv\n",
      "[INFO] Завантаження provinceID=4...\n",
      "[OK] Збережено: provinces\\Province4_20250925_18h27m47s.csv\n",
      "[INFO] Завантаження provinceID=5...\n",
      "[OK] Збережено: provinces\\Province5_20250925_18h27m49s.csv\n",
      "[INFO] Завантаження provinceID=6...\n",
      "[OK] Збережено: provinces\\Province6_20250925_18h27m50s.csv\n",
      "[INFO] Завантаження provinceID=7...\n",
      "[OK] Збережено: provinces\\Province7_20250925_18h27m51s.csv\n",
      "[INFO] Завантаження provinceID=8...\n",
      "[OK] Збережено: provinces\\Province8_20250925_18h27m52s.csv\n",
      "[INFO] Завантаження provinceID=9...\n",
      "[OK] Збережено: provinces\\Province9_20250925_18h27m54s.csv\n",
      "[INFO] Завантаження provinceID=10...\n",
      "[OK] Збережено: provinces\\Province10_20250925_18h27m55s.csv\n",
      "[INFO] Завантаження provinceID=11...\n",
      "[OK] Збережено: provinces\\Province11_20250925_18h27m56s.csv\n",
      "[INFO] Завантаження provinceID=12...\n",
      "[OK] Збережено: provinces\\Province12_20250925_18h27m58s.csv\n",
      "[INFO] Завантаження provinceID=13...\n",
      "[OK] Збережено: provinces\\Province13_20250925_18h27m59s.csv\n",
      "[INFO] Завантаження provinceID=14...\n",
      "[OK] Збережено: provinces\\Province14_20250925_18h28m01s.csv\n",
      "[INFO] Завантаження provinceID=15...\n",
      "[OK] Збережено: provinces\\Province15_20250925_18h28m02s.csv\n",
      "[INFO] Завантаження provinceID=16...\n",
      "[OK] Збережено: provinces\\Province16_20250925_18h28m03s.csv\n",
      "[INFO] Завантаження provinceID=17...\n",
      "[OK] Збережено: provinces\\Province17_20250925_18h28m05s.csv\n",
      "[INFO] Завантаження provinceID=18...\n",
      "[OK] Збережено: provinces\\Province18_20250925_18h28m06s.csv\n",
      "[INFO] Завантаження provinceID=19...\n",
      "[OK] Збережено: provinces\\Province19_20250925_18h28m07s.csv\n",
      "[INFO] Завантаження provinceID=20...\n",
      "[OK] Збережено: provinces\\Province20_20250925_18h28m09s.csv\n",
      "[INFO] Завантаження provinceID=21...\n",
      "[OK] Збережено: provinces\\Province21_20250925_18h28m10s.csv\n",
      "[INFO] Завантаження provinceID=22...\n",
      "[OK] Збережено: provinces\\Province22_20250925_18h28m12s.csv\n",
      "[INFO] Завантаження provinceID=23...\n",
      "[OK] Збережено: provinces\\Province23_20250925_18h28m13s.csv\n",
      "[INFO] Завантаження provinceID=24...\n",
      "[OK] Збережено: provinces\\Province24_20250925_18h28m14s.csv\n",
      "[INFO] Завантаження provinceID=25...\n",
      "[OK] Збережено: provinces\\Province25_20250925_18h28m16s.csv\n",
      "[INFO] Завантаження provinceID=26...\n",
      "[OK] Збережено: provinces\\Province26_20250925_18h28m17s.csv\n",
      "[INFO] Завантаження provinceID=27...\n",
      "[OK] Збережено: provinces\\Province27_20250925_18h28m19s.csv\n"
     ]
    }
   ],
   "source": [
    "for id in range(1, 28):\n",
    "    #print(f\"Завантажена область номер {id}\")\n",
    "    downloadprovince(id)"
   ]
  },
  {
   "cell_type": "code",
   "execution_count": 26,
   "id": "a9b3bab8",
   "metadata": {},
   "outputs": [
    {
     "name": "stdout",
     "output_type": "stream",
     "text": [
      "Читаю файл: provinces\\Province1_20250925_18h27m44s.csv\n",
      "   year  week    SMN     SMT    VCI    TCI    VHI\n",
      "0  1982     1  0.053  260.31  45.01  39.46  42.23\n",
      "1  1982     2  0.054  262.29  46.83  31.75  39.29\n",
      "2  1982     3  0.055  263.82  48.13  27.24  37.68\n",
      "3  1982     4  0.053  265.33  46.09  23.91  35.00\n",
      "4  1982     5  0.050  265.66  41.46  26.65  34.06\n",
      "             year         week          SMN          SMT          VCI  \\\n",
      "count  2236.00000  2236.000000  2236.000000  2236.000000  2236.000000   \n",
      "mean   2003.00000    26.500000     0.203740   275.700666    49.122294   \n",
      "std      12.41245    15.011688     0.236551    44.351923    21.379807   \n",
      "min    1982.00000     1.000000    -1.000000    -1.000000    -1.000000   \n",
      "25%    1992.00000    13.750000     0.075000   267.210000    34.200000   \n",
      "50%    2003.00000    26.500000     0.204500   286.045000    49.940000   \n",
      "75%    2014.00000    39.250000     0.376000   295.140000    65.805000   \n",
      "max    2024.00000    52.000000     0.505000   302.240000    95.450000   \n",
      "\n",
      "               TCI          VHI  \n",
      "count  2236.000000  2236.000000  \n",
      "mean     43.249996    46.182764  \n",
      "std      22.681720    13.307190  \n",
      "min      -1.000000    -1.000000  \n",
      "25%      25.672500    39.305000  \n",
      "50%      43.515000    45.570000  \n",
      "75%      59.522500    53.930000  \n",
      "max      95.500000    83.700000  \n"
     ]
    }
   ],
   "source": [
    "files = glob.glob(\"provinces/Province1_*.csv\")\n",
    "if files:\n",
    "    latestfile = sorted(files)[-1]\n",
    "    print(f\"Читаю файл: {latestfile}\")\n",
    "\n",
    "    with open(latestfile, 'r', encoding='utf-8') as f:\n",
    "        lines = f.readlines()\n",
    "\n",
    "    lines = [line.replace('<tt><pre>', '').replace('</pre></tt>', '') for line in lines]\n",
    "    data_lines = [line for line in lines if  not line.startswith('Mean') and not line.startswith('year')]\n",
    "\n",
    "    data_lines = [line.rstrip().rstrip(',')+ '\\n'  for line in data_lines] #якщо закоментувати, буде зайва кома та відповідно зайва колонка\n",
    "\n",
    "    data_csv = ''.join(data_lines)\n",
    "    #print(data_csv) #просто як виглядає один рядок\n",
    "\n",
    "    columns = ['year', 'week', 'SMN', 'SMT', 'VCI', 'TCI', 'VHI']\n",
    "    df = pd.read_csv(StringIO(data_csv), names=columns)\n",
    "\n",
    "    #df = df.dropna(how='all')\n",
    "\n",
    "    print(df.head())\n",
    "    print(df.describe())"
   ]
  },
  {
   "cell_type": "code",
   "execution_count": null,
   "id": "01d0c16f",
   "metadata": {},
   "outputs": [],
   "source": []
  }
 ],
 "metadata": {
  "kernelspec": {
   "display_name": "venv1",
   "language": "python",
   "name": "python3"
  },
  "language_info": {
   "codemirror_mode": {
    "name": "ipython",
    "version": 3
   },
   "file_extension": ".py",
   "mimetype": "text/x-python",
   "name": "python",
   "nbconvert_exporter": "python",
   "pygments_lexer": "ipython3",
   "version": "3.13.7"
  }
 },
 "nbformat": 4,
 "nbformat_minor": 5
}
